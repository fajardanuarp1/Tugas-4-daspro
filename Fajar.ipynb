{
 "cells": [
  {
   "cell_type": "code",
   "execution_count": 2,
   "id": "b5e045af-c708-49d5-b5e0-5c09f60ab6f4",
   "metadata": {},
   "outputs": [
    {
     "name": "stdout",
     "output_type": "stream",
     "text": [
      "Setiap teman menerima 3.0 apel.\n",
      "Total apel Budi sekarang adalah 20.\n"
     ]
    }
   ],
   "source": [
    "# 1. Operator Aritmatika\n",
    "# a. Membagi apel\n",
    "apel_budi = 12\n",
    "teman = 4\n",
    "apel_per_teman = apel_budi / teman\n",
    "print(f\"Setiap teman menerima {apel_per_teman} apel.\")\n",
    "\n",
    "# b. Total apel setelah tambahan\n",
    "tambahan_apel = 8\n",
    "total_apel = apel_budi + tambahan_apel\n",
    "print(f\"Total apel Budi sekarang adalah {total_apel}.\")"
   ]
  },
  {
   "cell_type": "code",
   "execution_count": null,
   "id": "041a5810-7468-4b0e-885e-9e6bfb71e4ae",
   "metadata": {},
   "outputs": [],
   "source": [
    "# 2. Operator Perbandingan\n",
    "tinggi_siti = 160\n",
    "tinggi_andi = 165\n",
    "if tinggi_siti > tinggi_andi:\n",
    "    print(\"Siti lebih tinggi dari Andi.\")\n",
    "elif tinggi_siti < tinggi_andi:\n",
    "    print(\"Andi lebih tinggi dari Siti.\")\n",
    "else:\n",
    "    print(\"Siti dan Andi memiliki tinggi yang sama.\")"
   ]
  },
  {
   "cell_type": "code",
   "execution_count": null,
   "id": "0fb588ea-8fa2-4560-9734-c48339319174",
   "metadata": {},
   "outputs": [],
   "source": [
    "# 3. Operator Logika\n",
    "cuaca_cerah = True\n",
    "pr_selesai = True\n",
    "budi_bisa_bermain = cuaca_cerah and pr_selesai\n",
    "print(f\"Budi bisa bermain di luar: {budi_bisa_bermain}\")\n"
   ]
  },
  {
   "cell_type": "code",
   "execution_count": null,
   "id": "d0fc20a6-646a-4f09-9209-8392bbc84d2c",
   "metadata": {},
   "outputs": [],
   "source": [
    "# 4. Operator Bitwise\n",
    "angka1 = 6  # 0110\n",
    "angka2 = 3  # 0011\n",
    "and_result = angka1 & angka2\n",
    "or_result = angka1 | angka2\n",
    "xor_result = angka1 ^ angka2\n",
    "print(f\"Hasil AND: {and_result}, OR: {or_result}, XOR: {xor_result}\")"
   ]
  },
  {
   "cell_type": "code",
   "execution_count": null,
   "id": "bf6a3b4c-c7b5-4923-b71e-156e405c7af9",
   "metadata": {},
   "outputs": [],
   "source": [
    "# 5. Operator Penugasan\n",
    "saldo_pulsa = 50000\n",
    "saldo_pulsa += 20000  # isi ulang\n",
    "saldo_pulsa -= 30000  # beli paket internet\n",
    "print(f\"Sisa saldo pulsa: Rp{saldo_pulsa}\")\n"
   ]
  },
  {
   "cell_type": "code",
   "execution_count": null,
   "id": "52ea8980-6d47-4bf3-aa8e-683439bf487b",
   "metadata": {},
   "outputs": [],
   "source": [
    "# 6. Operator Keanggotaan\n",
    "peserta = [\"Andi\", \"Budi\", \"Citra\", \"Dewi\"]\n",
    "is_eka_terdaftar = \"Eka\" in peserta\n",
    "print(f\"Eka terdaftar sebagai peserta: {is_eka_terdaftar}\")\n",
    "kalimat = \"Saya suka belajar Python\"\n",
    "is_python_ada = \"Python\" in kalimat\n",
    "print(f\"Kata 'Python' ada dalam kalimat: {is_python_ada}\")\n"
   ]
  },
  {
   "cell_type": "code",
   "execution_count": null,
   "id": "1a27b58d-bb63-40d2-98fd-888c517f67ad",
   "metadata": {},
   "outputs": [],
   "source": [
    "# 7. Operator Identitas\n",
    "x = [1, 2, 3]\n",
    "y = x\n",
    "print(f\"x dan y merujuk ke objek yang sama: {x is y}\")\n",
    "\n",
    "list1 = [1, 2, 3]\n",
    "list2 = [1, 2, 3]\n",
    "print(f\"list1 dan list2 merujuk ke objek yang sama: {list1 is list2}\")"
   ]
  },
  {
   "cell_type": "code",
   "execution_count": null,
   "id": "f91774c0-b49c-46de-bd82-42d7f16cdf79",
   "metadata": {},
   "outputs": [],
   "source": [
    "# 8. Operator Ternary\n",
    "angka = 150\n",
    "hasil_angka = \"Lebih besar dari 100\" if angka > 100 else \"Tidak lebih besar dari 100\"\n",
    "print(hasil_angka)\n",
    "\n",
    "nilai_ujian = 75\n",
    "hasil_nilai = \"Lulus\" if nilai_ujian > 70 else \"Tidak Lulus\"\n",
    "print(hasil_nilai)"
   ]
  }
 ],
 "metadata": {
  "kernelspec": {
   "display_name": "Python [conda env:base] *",
   "language": "python",
   "name": "conda-base-py"
  },
  "language_info": {
   "codemirror_mode": {
    "name": "ipython",
    "version": 3
   },
   "file_extension": ".py",
   "mimetype": "text/x-python",
   "name": "python",
   "nbconvert_exporter": "python",
   "pygments_lexer": "ipython3",
   "version": "3.12.7"
  }
 },
 "nbformat": 4,
 "nbformat_minor": 5
}
